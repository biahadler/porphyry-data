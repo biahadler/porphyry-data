This workflow allows to plot the main components of the global landscape evolution model produced in Salles et al, 2023 (Science).
The workflow aslo do so basic statistics with the model outputs and plot them in charts.
